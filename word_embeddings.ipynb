{
 "cells": [
  {
   "cell_type": "code",
   "execution_count": 1,
   "metadata": {},
   "outputs": [],
   "source": [
    "from gensim.models import Word2Vec\n",
    "from gensim.utils import simple_preprocess"
   ]
  },
  {
   "cell_type": "code",
   "execution_count": 3,
   "metadata": {},
   "outputs": [],
   "source": [
    "with open(\"data/text8\", \"r\") as file:\n",
    "    corpus = file.read()\n",
    "\n",
    "# Tokenizar o corpus em sentenças\n",
    "sentences = [simple_preprocess(line) for line in corpus.splitlines()]\n"
   ]
  },
  {
   "cell_type": "code",
   "execution_count": 6,
   "metadata": {},
   "outputs": [],
   "source": [
    "hyperparams = {\n",
    "    \"embedding_size\": [100, 200],\n",
    "    \"window_size\": [5, 10],\n",
    "    \"skip_gram\": [0, 1],  # 0 = CBOW, 1 = Skip-gram\n",
    "    \"epochs\": [5, 10]\n",
    "}\n",
    "\n",
    "for embedding_size in hyperparams[\"embedding_size\"]:\n",
    "    for window_size in hyperparams[\"window_size\"]:\n",
    "        for sg in hyperparams[\"skip_gram\"]:\n",
    "            for epochs in hyperparams[\"epochs\"]:\n",
    "                model = Word2Vec(\n",
    "                    sentences=sentences,\n",
    "                    vector_size=embedding_size,\n",
    "                    window=window_size,\n",
    "                    sg=sg,\n",
    "                    epochs=epochs\n",
    "                )\n",
    "                model.save(f\"models/word2vec_{embedding_size}_{window_size}_{sg}_{epochs}.model\")\n"
   ]
  }
 ],
 "metadata": {
  "kernelspec": {
   "display_name": "Python 3",
   "language": "python",
   "name": "python3"
  },
  "language_info": {
   "codemirror_mode": {
    "name": "ipython",
    "version": 3
   },
   "file_extension": ".py",
   "mimetype": "text/x-python",
   "name": "python",
   "nbconvert_exporter": "python",
   "pygments_lexer": "ipython3",
   "version": "3.10.12"
  }
 },
 "nbformat": 4,
 "nbformat_minor": 2
}
