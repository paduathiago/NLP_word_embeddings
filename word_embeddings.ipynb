{
  "cells": [
    {
      "cell_type": "markdown",
      "metadata": {
        "id": "B6IlqAJ5Kzs4"
      },
      "source": [
        "# Trabalho Prático - Word Embeddings\n",
        "## Thiago Pádua de Carvalho - 2020007066"
      ]
    },
    {
      "cell_type": "markdown",
      "metadata": {
        "id": "2mZaWbQPKztG"
      },
      "source": [
        "### Introdução\n",
        "Neste trabalho prático, foi proposta a implementação de modelos de word embeddings e sua posterior avaliação em tarefas de similaridade e analogia de palavras. Para tal, foram criados modelos com variações de arquitetura e hiperparâmetros.\n",
        "### Hiperparâmetros\n",
        "Os hiperparâmetros utilizados foram:\n",
        "- **Embedding Size**: Tamanho do vetor de embedding. Isto é, o número de dimensões do vetor de representação gerado para cada palavra no vocabulário. Por exemplo, para um embedding_size=2, cada palavra é representada por um vetor bidimensional. Como demonstração, [0.5, -0.3].\n",
        "- **Window Size**: Tamanho da janela de contexto. Esse hiperparâmetro modifica como o cenário ao redor de uma palavra-alvo que será considerado durante o treinamento. Ele especifica quantas palavras à esquerda e à direita da referência o modelo deve se basear aprender suas representações.\\\n",
        "Por exemplo, se window_size=2, o modelo usa as 2 palavras imediatamente antes e as 2 imediatamente depois da palavra-alvo como contexto.\n",
        "Exemplo: Para a frase \"O modelo Word2Vec usa janelas de contexto\", com window_size=2, o contexto da palavra \"Word2Vec\" seria [\"O\", \"modelo\", \"usa\", \"janelas\"].\n",
        "\n",
        "- **Epochs**: Número de épocas de treinamento. Ele define a quantidade de vezes que o modelo percorre o corpus de treinamento completo durante o aprendizado, ou seja, quantas iterações sobre os dados serão feitas, afetando a convergência e a qualidade dos embeddings.\n",
        "\n",
        "### Arquiteturas\n",
        "Foram implementadas 2 arquiteturas de word embeddings:\n",
        "- **Skip-gram**: Modelo que prevê as palavras do contexto a partir de uma palavra central.\\\n",
        "1 - Escolhe-se uma janela de contexto de tamanho k\\\n",
        "2 - O modelo é treinado para associar a palavra-alvo wt com cada palavra de contexto wc dentro da janela.\\\n",
        "3 - O objetivo do Skip-gram é maximizar a probabilidade conjunta de todas as palavras de contexto\n",
        "\n",
        "- **CBOW**: Modelo que prevê a palavra central a partir das palavras do contexto:\\\n",
        "1 - Recebe as palavras de contexto (as palavras ao redor da palavra-alvo) como entrada.\\\n",
        "2 - Calcula a média dos vetores das palavras de contexto.\\\n",
        "3 - Tenta prever a palavra-alvo com base nessa média.\n",
        "\n",
        "| **Aspecto**                  | **CBOW**                                      | **Skip-gram**                              |\n",
        "|-------------------------------|-----------------------------------------------|--------------------------------------------|\n",
        "| **Direção de predição**       | Contexto → Palavra-alvo                      | Palavra-alvo → Contexto                    |\n",
        "| **Velocidade de treinamento** | Mais rápido                                  | Mais lento                                 |\n",
        "| **Requisito de dados**        | Funciona bem com corpora pequenos            | Requer corpora maiores                    |\n",
        "| **Foco semântico**            | Palavras frequentes                         | Palavras raras                            |\n",
        "| **Robustez**                  | Melhor para contextos mais comuns           | Melhor para capturar relações profundas    |\n"
      ]
    },
    {
      "cell_type": "markdown",
      "metadata": {
        "id": "y5u0YlFPAYNx"
      },
      "source": [
        "### Implementação"
      ]
    },
    {
      "cell_type": "code",
      "execution_count": 1,
      "metadata": {
        "id": "dU8CSftGKztD"
      },
      "outputs": [],
      "source": [
        "from gensim.utils import simple_preprocess\n",
        "from gensim.models import Word2Vec\n",
        "from scipy.spatial.distance import cosine\n",
        "\n",
        "import itertools"
      ]
    },
    {
      "cell_type": "code",
      "execution_count": 2,
      "metadata": {
        "id": "GaLoOi3SKztE"
      },
      "outputs": [],
      "source": [
        "with open(\"data/text8\", \"r\") as file:\n",
        "    corpus = file.read()\n",
        "\n",
        "# Tokenize the corpus\n",
        "sentences = [simple_preprocess(line) for line in corpus.splitlines()]"
      ]
    },
    {
      "cell_type": "code",
      "execution_count": null,
      "metadata": {
        "id": "6xLiDQ1WKztE"
      },
      "outputs": [],
      "source": [
        "def evaluate_model(model, analogy_file=\"data/questions-words.txt\"):\n",
        "    total_distance = 0\n",
        "    num_analogies = 0\n",
        "\n",
        "    with open(analogy_file, \"r\") as file:\n",
        "        for line in file:\n",
        "            if line.startswith(\":\"):  # Ignore categories\n",
        "                continue\n",
        "\n",
        "            words = line.strip().split()\n",
        "            if all(word in model.wv for word in words):  # Check if all words are in the vocabulary\n",
        "                vector_a = model.wv[words[1]]  # Example: France\n",
        "                vector_b = model.wv[words[0]]  # Example: Paris\n",
        "                vector_c = model.wv[words[2]]  # Example: Berlin\n",
        "                vector_d = model.wv[words[3]]  # Example: Germany\n",
        "\n",
        "                result_vector = vector_a - vector_b + vector_c\n",
        "\n",
        "                # Compute the cosine distance between the resulting vector and the expected vector\n",
        "                distance = cosine(result_vector, vector_d)\n",
        "                total_distance += distance\n",
        "                num_analogies += 1\n",
        "\n",
        "    average_distance = total_distance / num_analogies\n",
        "    return average_distance\n"
      ]
    },
    {
      "cell_type": "code",
      "execution_count": null,
      "metadata": {
        "id": "pPneEMANKztF"
      },
      "outputs": [],
      "source": [
        "def generate_hyperparams_combinations(hyperparams):\n",
        "    keys = hyperparams.keys()\n",
        "    values = hyperparams.values()\n",
        "    for combination in itertools.product(*values):\n",
        "        yield dict(zip(keys, combination))"
      ]
    },
    {
      "cell_type": "code",
      "execution_count": null,
      "metadata": {
        "id": "trhZcKajKztF"
      },
      "outputs": [],
      "source": [
        "hyperparams = {\n",
        "    \"embedding_size\": [30, 50, 100, 200, 300, 500, 700],\n",
        "    \"window_size\": [2, 3, 4, 5, 10],\n",
        "    \"skip_gram\": [0, 1],\n",
        "    \"epochs\": [5, 10, 15, 30, 40]\n",
        "}\n",
        "\n",
        "data_dir = \"models\"\n",
        "\n",
        "results = []\n",
        "for params in generate_hyperparams_combinations(hyperparams):\n",
        "    model = Word2Vec(\n",
        "        sentences=sentences,\n",
        "        vector_size=params[\"embedding_size\"],\n",
        "        window=params[\"window_size\"],\n",
        "        sg=params[\"skip_gram\"],\n",
        "        epochs=params[\"epochs\"]\n",
        "    )\n",
        "\n",
        "    model_name = f\"word2vec_{params['embedding_size']}_{params['window_size']}_{params['skip_gram']}_{params['epochs']}.model\"\n",
        "    model.save(f\"{data_dir}/{model_name}\")\n",
        "\n",
        "    avg_distance = evaluate_model(model)\n",
        "    # print(f\"Distância média: {avg_distance:.4f}\")\n",
        "    results.append((model_name, avg_distance, params))"
      ]
    },
    {
      "cell_type": "code",
      "execution_count": null,
      "metadata": {
        "id": "CogQ2wo-KztF",
        "outputId": "1c0b4fa0-f475-44c7-cebc-3de090f8e953"
      },
      "outputs": [
        {
          "name": "stdout",
          "output_type": "stream",
          "text": [
            "Best model: word2vec_200_10_1_10.model with average distance: 0.8760\n"
          ]
        }
      ],
      "source": [
        "best_model = min(results, key=lambda x: x[1])\n",
        "print(f\"Best model: {best_model[0]} with average distance: {best_model[1]:.4f}\")"
      ]
    }
  ],
  "metadata": {
    "colab": {
      "provenance": []
    },
    "kernelspec": {
      "display_name": "Python 3",
      "language": "python",
      "name": "python3"
    },
    "language_info": {
      "codemirror_mode": {
        "name": "ipython",
        "version": 3
      },
      "file_extension": ".py",
      "mimetype": "text/x-python",
      "name": "python",
      "nbconvert_exporter": "python",
      "pygments_lexer": "ipython3",
      "version": "3.10.12"
    }
  },
  "nbformat": 4,
  "nbformat_minor": 0
}
