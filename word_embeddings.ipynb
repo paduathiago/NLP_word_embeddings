{
 "cells": [
  {
   "cell_type": "markdown",
   "metadata": {},
   "source": [
    "# Trabalho Prático - Word Embeddings\n",
    "## Thiago Pádua de Carvalho - 2020007066"
   ]
  },
  {
   "cell_type": "code",
   "execution_count": 9,
   "metadata": {},
   "outputs": [],
   "source": [
    "from gensim.utils import simple_preprocess\n",
    "from gensim.models import Word2Vec\n",
    "from scipy.spatial.distance import cosine\n",
    "\n",
    "import itertools"
   ]
  },
  {
   "cell_type": "code",
   "execution_count": 10,
   "metadata": {},
   "outputs": [],
   "source": [
    "with open(\"data/text8\", \"r\") as file:\n",
    "    corpus = file.read()\n",
    "\n",
    "# Tokenize the corpus\n",
    "sentences = [simple_preprocess(line) for line in corpus.splitlines()]"
   ]
  },
  {
   "cell_type": "code",
   "execution_count": 19,
   "metadata": {},
   "outputs": [],
   "source": [
    "def evaluate_model(model, analogy_file=\"data/questions-words.txt\"):\n",
    "    total_distance = 0\n",
    "    num_analogies = 0\n",
    "\n",
    "    with open(analogy_file, \"r\") as file:\n",
    "        for line in file:\n",
    "            if line.startswith(\":\"):  # Ignore categories\n",
    "                continue\n",
    "\n",
    "            words = line.strip().split()\n",
    "            if all(word in model.wv for word in words):  # Check if all words are in the vocabulary\n",
    "                vector_a = model.wv[words[1]]  # Example: France\n",
    "                vector_b = model.wv[words[0]]  # Example: Paris\n",
    "                vector_c = model.wv[words[2]]  # Example: Berlin\n",
    "                vector_d = model.wv[words[3]]  # Example: Germany\n",
    "\n",
    "                result_vector = vector_a - vector_b + vector_c\n",
    "\n",
    "                # Compute the cosine distance between the resulting vector and the expected vector\n",
    "                distance = cosine(result_vector, vector_d)\n",
    "                total_distance += distance\n",
    "                num_analogies += 1\n",
    "\n",
    "    average_distance = total_distance / num_analogies\n",
    "    return average_distance\n"
   ]
  },
  {
   "cell_type": "code",
   "execution_count": 20,
   "metadata": {},
   "outputs": [],
   "source": [
    "def generate_hyperparams_combinations(hyperparams):\n",
    "    keys = hyperparams.keys()\n",
    "    values = hyperparams.values()\n",
    "    for combination in itertools.product(*values):\n",
    "        yield dict(zip(keys, combination))"
   ]
  },
  {
   "cell_type": "code",
   "execution_count": 23,
   "metadata": {},
   "outputs": [],
   "source": [
    "hyperparams = {\n",
    "    \"embedding_size\": [100, 200],\n",
    "    \"window_size\": [2, 3, 4, 5, 10],\n",
    "    \"skip_gram\": [0, 1],\n",
    "    \"epochs\": [5, 10]\n",
    "}\n",
    "\n",
    "data_dir = \"models\"\n",
    "\n",
    "results = []\n",
    "for params in generate_hyperparams_combinations(hyperparams):\n",
    "    model = Word2Vec(\n",
    "        sentences=sentences,\n",
    "        vector_size=params[\"embedding_size\"],\n",
    "        window=params[\"window_size\"],\n",
    "        sg=params[\"skip_gram\"],\n",
    "        epochs=params[\"epochs\"]\n",
    "    )\n",
    "\n",
    "    model_name = f\"word2vec_{params['embedding_size']}_{params['window_size']}_{params['skip_gram']}_{params['epochs']}.model\"\n",
    "    model.save(f\"{data_dir}/{model_name}\")\n",
    "\n",
    "    avg_distance = evaluate_model(model)\n",
    "    # print(f\"Distância média: {avg_distance:.4f}\")\n",
    "    results.append((model_name, avg_distance, params))"
   ]
  },
  {
   "cell_type": "code",
   "execution_count": 24,
   "metadata": {},
   "outputs": [
    {
     "name": "stdout",
     "output_type": "stream",
     "text": [
      "Best model: word2vec_200_10_1_10.model with average distance: 0.8760\n"
     ]
    }
   ],
   "source": [
    "best_model = min(results, key=lambda x: x[1])\n",
    "print(f\"Best model: {best_model[0]} with average distance: {best_model[1]:.4f}\")"
   ]
  },
  {
   "cell_type": "markdown",
   "metadata": {},
   "source": [
    "### Introdução\n",
    "Neste trabalho prático, foi proposta a implementação de modelos de word embeddings e sua posterior avaliação em tarefas de similaridade e analogia de palavras. Para tal, foram criados modelos com variações de arquitetura e hiperparâmetros.\n",
    "### Hiperparâmetros\n",
    "Os hiperparâmetros utilizados foram:\n",
    "- **Embedding Size**: Tamanho do vetor de embedding.\n",
    "- **Window Size**: Tamanho da janela de contexto.\n",
    "- **Epochs**: Número de épocas de treinamento.\n",
    "### Arquiteturas\n",
    "Foram implementadas 2 arquiteturas de word embeddings:\n",
    "- **Skip-gram**: Modelo que prevê as palavras do contexto a partir de uma palavra central.\n",
    "- **CBOW**: Modelo que prevê a palavra central a partir das palavras do contexto.\n"
   ]
  }
 ],
 "metadata": {
  "kernelspec": {
   "display_name": "Python 3",
   "language": "python",
   "name": "python3"
  },
  "language_info": {
   "codemirror_mode": {
    "name": "ipython",
    "version": 3
   },
   "file_extension": ".py",
   "mimetype": "text/x-python",
   "name": "python",
   "nbconvert_exporter": "python",
   "pygments_lexer": "ipython3",
   "version": "3.10.12"
  }
 },
 "nbformat": 4,
 "nbformat_minor": 2
}
